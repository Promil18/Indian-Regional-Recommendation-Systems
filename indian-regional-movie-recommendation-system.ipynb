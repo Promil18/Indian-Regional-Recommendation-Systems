{
 "cells": [
  {
   "cell_type": "markdown",
   "metadata": {},
   "source": [
    "# Indian Regional Recommendation Systems\n",
    "\n",
    "The goal for a recommendation system is to extract information from data about the relationship existing between users and products. One of the common usage is to take the products that the user already likes and and answer the question \"What other products can be recommended to the user?\"\n",
    "\n",
    "There are multiple ways of answering the above question. These are the three main types algorithms being used for recommendation systems, to try answering different aspects of recommendations:\n",
    "\n",
    "- **Content Based Filtering**\n",
    "  - Used to find products with \"similar\" attributes. Example: if a person likes movies from action genere then recommend other books from action genere.\n",
    "  - The movie will have different attributes, such as, direction, cast, cinematography, story etc. A field specialist will rate all these attributes on a fixed scale.\n",
    "  - Based on similarity between these attributes, we can recommend movies to a new user once they have picked up a few movies that they liked.\n",
    "  - One major drawback of this method is getting a field expert to rate movies on their attributes. It is time conuming and inefficient.\n",
    "  \n",
    "- **Collaberative Filtering**\n",
    "  - This is somewhat indirect way of recommending, but is the most used method in the industry. Here we find products liked by \"similar\" users (they have the same interest as the active user) and recommend them to the active user. \n",
    "  - For an active user, who has rated some movies highly in the system; we find other users who have rated these movies in a similar manner (they might have rated other movies as well). These users have commen interests, so we can use other user's ratings as a guide for the likeliness of movie recommendation to the active user.\n",
    "  - Here the assumption is that the movies that \"similar\" users like are similar to each other. In this method also we are measuring similarity of products, however here the similarity is measured indirectly through similarity of users.\n",
    "- **Association Rules Learning**\n",
    "  - Here we recommend \"complimentary\" products, for example, if someone is buying a smartphone then recommend a back cover or a tempered glass etc.\n",
    "  - In movie recommendation, the products are substitutable to each other. However, in the above example of smartphone, the products are complimentary.\n",
    "  - This algorithm tries to answer the question, \"If a person likes to buy smartphones, along with it, what else would they like to buy?\" i.e \"Which products are *associated* with each other?\""
   ]
  },
  {
   "cell_type": "markdown",
   "metadata": {},
   "source": [
    "### Get movies data from file into DataFrame"
   ]
  },
  {
   "cell_type": "code",
   "execution_count": 1,
   "metadata": {
    "_cell_guid": "b1076dfc-b9ad-4769-8c92-a6c4dae69d19",
    "_uuid": "8f2839f25d086af736a60e9eeb907d3b93b6e0e5"
   },
   "outputs": [],
   "source": [
    "# Import some basic libraries in python for data preprocessing\n",
    "\n",
    "import json\n",
    "import numpy as np\n",
    "import pandas as pd"
   ]
  },
  {
   "cell_type": "code",
   "execution_count": 3,
   "metadata": {
    "_cell_guid": "79c7e3d0-c299-4dcb-8224-4455121ee9b0",
    "_uuid": "d629ff2d2480ee46fbb7e2d37f6b5fab8052498a"
   },
   "outputs": [
    {
     "data": {
      "text/html": [
       "<div>\n",
       "<style scoped>\n",
       "    .dataframe tbody tr th:only-of-type {\n",
       "        vertical-align: middle;\n",
       "    }\n",
       "\n",
       "    .dataframe tbody tr th {\n",
       "        vertical-align: top;\n",
       "    }\n",
       "\n",
       "    .dataframe thead th {\n",
       "        text-align: right;\n",
       "    }\n",
       "</style>\n",
       "<table border=\"1\" class=\"dataframe\">\n",
       "  <thead>\n",
       "    <tr style=\"text-align: right;\">\n",
       "      <th></th>\n",
       "      <th>_id</th>\n",
       "      <th>rating</th>\n",
       "      <th>movie_id</th>\n",
       "      <th>description</th>\n",
       "      <th>language</th>\n",
       "      <th>released</th>\n",
       "      <th>rating_cnt</th>\n",
       "      <th>writer</th>\n",
       "      <th>director</th>\n",
       "      <th>cast</th>\n",
       "      <th>img_src</th>\n",
       "      <th>genre</th>\n",
       "      <th>inserted</th>\n",
       "      <th>name</th>\n",
       "    </tr>\n",
       "  </thead>\n",
       "  <tbody>\n",
       "    <tr>\n",
       "      <th>0</th>\n",
       "      <td>{'$oid': '581994c40ad09b0701a0e727'}</td>\n",
       "      <td>7.9</td>\n",
       "      <td>tt5286444</td>\n",
       "      <td>Neerja is the story of the courageous Neerja B...</td>\n",
       "      <td>[Hindi]</td>\n",
       "      <td>{'$date': '2016-02-19T05:30:00.000+0530'}</td>\n",
       "      <td>0</td>\n",
       "      <td>[Saiwyn Quadras, Sanyukta Shaikh Chawla]</td>\n",
       "      <td>[Ram Madhvani]</td>\n",
       "      <td>[Sonam Kapoor, Shabana Azmi, Yogendra Tikku, A...</td>\n",
       "      <td>https://images-na.ssl-images-amazon.com/images...</td>\n",
       "      <td>[Biography, Drama, Thriller]</td>\n",
       "      <td>{'$date': '2016-11-02T18:24:52.889+0530'}</td>\n",
       "      <td>Neerja</td>\n",
       "    </tr>\n",
       "    <tr>\n",
       "      <th>1</th>\n",
       "      <td>{'$oid': '581994c40ad09b0701a0e728'}</td>\n",
       "      <td>7.9</td>\n",
       "      <td>tt4434004</td>\n",
       "      <td>A story that revolves around drug abuse in the...</td>\n",
       "      <td>[Hindi, Panjabi]</td>\n",
       "      <td>{'$date': '2016-06-17T05:30:00.000+0530'}</td>\n",
       "      <td>0</td>\n",
       "      <td>[Sudip Sharma, Abhishek Chaubey]</td>\n",
       "      <td>[Abhishek Chaubey]</td>\n",
       "      <td>[Alia Bhatt, Shahid Kapoor, Diljit Dosanjh, Ka...</td>\n",
       "      <td>https://images-na.ssl-images-amazon.com/images...</td>\n",
       "      <td>[Crime, Drama, Thriller]</td>\n",
       "      <td>{'$date': '2016-11-02T18:24:52.938+0530'}</td>\n",
       "      <td>Udta Punjab</td>\n",
       "    </tr>\n",
       "    <tr>\n",
       "      <th>2</th>\n",
       "      <td>{'$oid': '581994c50ad09b0701a0e729'}</td>\n",
       "      <td>7.5</td>\n",
       "      <td>tt0248126</td>\n",
       "      <td>Yashvardhan Raichand lives a very wealthy life...</td>\n",
       "      <td>[Hindi, English, Urdu]</td>\n",
       "      <td>{'$date': '2001-12-14T05:30:00.000+0530'}</td>\n",
       "      <td>0</td>\n",
       "      <td>[Karan Johar, Sheena Parikh]</td>\n",
       "      <td>[Karan Johar]</td>\n",
       "      <td>[Amitabh Bachchan, Jaya Bhaduri, Shah Rukh Kha...</td>\n",
       "      <td>https://images-na.ssl-images-amazon.com/images...</td>\n",
       "      <td>[Drama, Musical, Romance]</td>\n",
       "      <td>{'$date': '2016-11-02T18:24:53.046+0530'}</td>\n",
       "      <td>Kabhi Khushi Kabhie Gham...</td>\n",
       "    </tr>\n",
       "    <tr>\n",
       "      <th>3</th>\n",
       "      <td>{'$oid': '581994c50ad09b0701a0e72a'}</td>\n",
       "      <td>8.0</td>\n",
       "      <td>tt0347304</td>\n",
       "      <td>Naina, an introverted, perpetually depressed g...</td>\n",
       "      <td>[Hindi, Urdu, Gujarati, Panjabi]</td>\n",
       "      <td>{'$date': '2003-11-28T05:30:00.000+0530'}</td>\n",
       "      <td>0</td>\n",
       "      <td>[Niranjan Iyengar, Karan Johar]</td>\n",
       "      <td>[Nikkhil Advani]</td>\n",
       "      <td>[Shah Rukh Khan, Preity Zinta, Saif Ali Khan, ...</td>\n",
       "      <td>https://images-na.ssl-images-amazon.com/images...</td>\n",
       "      <td>[Comedy, Drama, Romance]</td>\n",
       "      <td>{'$date': '2016-11-02T18:24:53.052+0530'}</td>\n",
       "      <td>Kal Ho Naa Ho</td>\n",
       "    </tr>\n",
       "    <tr>\n",
       "      <th>4</th>\n",
       "      <td>{'$oid': '581994c50ad09b0701a0e72b'}</td>\n",
       "      <td>7.6</td>\n",
       "      <td>tt3043252</td>\n",
       "      <td>'Parched' is a story about women set in the he...</td>\n",
       "      <td>[Hindi, English]</td>\n",
       "      <td>{'$date': '2016-06-17T05:30:00.000+0530'}</td>\n",
       "      <td>0</td>\n",
       "      <td>[Supratik Sen, Leena Yadav]</td>\n",
       "      <td>[Leena Yadav]</td>\n",
       "      <td>[Tannishtha Chatterjee, Radhika Apte, Lehar Kh...</td>\n",
       "      <td>https://images-na.ssl-images-amazon.com/images...</td>\n",
       "      <td>[Drama]</td>\n",
       "      <td>{'$date': '2016-11-02T18:24:53.572+0530'}</td>\n",
       "      <td>Parched</td>\n",
       "    </tr>\n",
       "  </tbody>\n",
       "</table>\n",
       "</div>"
      ],
      "text/plain": [
       "                                    _id  rating   movie_id  \\\n",
       "0  {'$oid': '581994c40ad09b0701a0e727'}     7.9  tt5286444   \n",
       "1  {'$oid': '581994c40ad09b0701a0e728'}     7.9  tt4434004   \n",
       "2  {'$oid': '581994c50ad09b0701a0e729'}     7.5  tt0248126   \n",
       "3  {'$oid': '581994c50ad09b0701a0e72a'}     8.0  tt0347304   \n",
       "4  {'$oid': '581994c50ad09b0701a0e72b'}     7.6  tt3043252   \n",
       "\n",
       "                                         description  \\\n",
       "0  Neerja is the story of the courageous Neerja B...   \n",
       "1  A story that revolves around drug abuse in the...   \n",
       "2  Yashvardhan Raichand lives a very wealthy life...   \n",
       "3  Naina, an introverted, perpetually depressed g...   \n",
       "4  'Parched' is a story about women set in the he...   \n",
       "\n",
       "                           language  \\\n",
       "0                           [Hindi]   \n",
       "1                  [Hindi, Panjabi]   \n",
       "2            [Hindi, English, Urdu]   \n",
       "3  [Hindi, Urdu, Gujarati, Panjabi]   \n",
       "4                  [Hindi, English]   \n",
       "\n",
       "                                    released  rating_cnt  \\\n",
       "0  {'$date': '2016-02-19T05:30:00.000+0530'}           0   \n",
       "1  {'$date': '2016-06-17T05:30:00.000+0530'}           0   \n",
       "2  {'$date': '2001-12-14T05:30:00.000+0530'}           0   \n",
       "3  {'$date': '2003-11-28T05:30:00.000+0530'}           0   \n",
       "4  {'$date': '2016-06-17T05:30:00.000+0530'}           0   \n",
       "\n",
       "                                     writer            director  \\\n",
       "0  [Saiwyn Quadras, Sanyukta Shaikh Chawla]      [Ram Madhvani]   \n",
       "1          [Sudip Sharma, Abhishek Chaubey]  [Abhishek Chaubey]   \n",
       "2              [Karan Johar, Sheena Parikh]       [Karan Johar]   \n",
       "3           [Niranjan Iyengar, Karan Johar]    [Nikkhil Advani]   \n",
       "4               [Supratik Sen, Leena Yadav]       [Leena Yadav]   \n",
       "\n",
       "                                                cast  \\\n",
       "0  [Sonam Kapoor, Shabana Azmi, Yogendra Tikku, A...   \n",
       "1  [Alia Bhatt, Shahid Kapoor, Diljit Dosanjh, Ka...   \n",
       "2  [Amitabh Bachchan, Jaya Bhaduri, Shah Rukh Kha...   \n",
       "3  [Shah Rukh Khan, Preity Zinta, Saif Ali Khan, ...   \n",
       "4  [Tannishtha Chatterjee, Radhika Apte, Lehar Kh...   \n",
       "\n",
       "                                             img_src  \\\n",
       "0  https://images-na.ssl-images-amazon.com/images...   \n",
       "1  https://images-na.ssl-images-amazon.com/images...   \n",
       "2  https://images-na.ssl-images-amazon.com/images...   \n",
       "3  https://images-na.ssl-images-amazon.com/images...   \n",
       "4  https://images-na.ssl-images-amazon.com/images...   \n",
       "\n",
       "                          genre                                   inserted  \\\n",
       "0  [Biography, Drama, Thriller]  {'$date': '2016-11-02T18:24:52.889+0530'}   \n",
       "1      [Crime, Drama, Thriller]  {'$date': '2016-11-02T18:24:52.938+0530'}   \n",
       "2     [Drama, Musical, Romance]  {'$date': '2016-11-02T18:24:53.046+0530'}   \n",
       "3      [Comedy, Drama, Romance]  {'$date': '2016-11-02T18:24:53.052+0530'}   \n",
       "4                       [Drama]  {'$date': '2016-11-02T18:24:53.572+0530'}   \n",
       "\n",
       "                          name  \n",
       "0                       Neerja  \n",
       "1                  Udta Punjab  \n",
       "2  Kabhi Khushi Kabhie Gham...  \n",
       "3                Kal Ho Naa Ho  \n",
       "4                      Parched  "
      ]
     },
     "execution_count": 3,
     "metadata": {},
     "output_type": "execute_result"
    }
   ],
   "source": [
    "# Read movies.json file and load into moviesData\n",
    "\n",
    "moviesData = []\n",
    "\n",
    "with open('archive/movies.json') as moviesFile:\n",
    "    for line in moviesFile:\n",
    "        moviesData.append(json.loads(line))\n",
    "\n",
    "# Now take the moviesData and create a DataFrame\n",
    "\n",
    "moviesDF = pd.DataFrame.from_records(moviesData)\n",
    "\n",
    "# View the head of the moviesDF DataFrame\n",
    "\n",
    "moviesDF.head()"
   ]
  },
  {
   "cell_type": "markdown",
   "metadata": {},
   "source": [
    "## Building a content based recommender system\n",
    "\n",
    "Here we will attempt to built two types of content based recommendation systems\n",
    "\n",
    "* **Plot Based Recommendation System**: This model takes movie descriptions and taglines into consideration and provides recommendation with similar plot descriptions.\n",
    "\n",
    "* **Metadata Based Recommendation System**: This model takes different features such as, genres, keywords, cast, and crew etc into consideration and provides recommendations that are most similar."
   ]
  },
  {
   "cell_type": "markdown",
   "metadata": {},
   "source": [
    "## I. Plot Based Recommendation System\n",
    "\n",
    "**Goal:** Compute the similarity matrix of all the movies with each other, based on their plot text (using pairwise cosine similarity method)\n",
    "\n",
    "**Approach:** Represent plot text (or documents) as vectors i.e a series of numbers, where each number/dimension represents occurance of a specific word in the vocabulary. The size of the vocabulary vector is the number of unique words present when all the documents are put together.\n",
    "\n",
    "**Methods:** To create these vectors for all the movies, we use vectorizers;\n",
    "  - Count Vectorizer\n",
    "  - TF-IDF Vectorizer"
   ]
  },
  {
   "cell_type": "markdown",
   "metadata": {},
   "source": [
    "#### Count Vectorizer\n",
    "\n",
    "This is the simplest type of vectorizer. \n",
    "\n",
    "Consider an example, where we have three documents (texts)\n",
    "\n",
    "A: The sun is a star\n",
    "\n",
    "B: My love is like a red, red rose\n",
    "\n",
    "C: Mary had a little lamb\n",
    "\n",
    "Now our goal is to convert these documents into vectors.\n",
    "\n",
    "**Step-1**\n",
    "\n",
    "We first compute the vocabulary; i.e the vector comprising of all the unique words present across all the documents.\n",
    "\n",
    "V = (the, sun, is, a, star, my, love, like, red, rose, mary, had, little, lamb)\n",
    "\n",
    "The size of this vocabulary is 14.\n",
    "\n",
    "__Special__\n",
    "\n",
    "A common practice is to remove common words e.g. a, the, is, had, my etc.. These are also called *'Stop Words'*.\n",
    "\n",
    "After removing these stop words;\n",
    "\n",
    "V: (like, little, lamb, love, mary, red, rose, sun, star)\n",
    "\n",
    "**Step-2**\n",
    "\n",
    "Now each document is interpreted as a vector of size 9, where each dimension represents the number of times each word occurs.\n",
    "\n",
    "So, using the CountVectorizer approach, A, B and C will be represented as:\n",
    "\n",
    "A: (0, 0, 0, 0, 0, 0, 0, 1, 1)\n",
    "\n",
    "B: (1, 0, 0, 1, 0, 2, 1, 0, 0)\n",
    "\n",
    "C: (0, 1, 1, 0, 1, 0, 0, 0, 0)"
   ]
  },
  {
   "cell_type": "markdown",
   "metadata": {},
   "source": [
    "#### TF-IDF  Vectorizer\n",
    "\n",
    "Not all words in a document carry equal weight, (for example we saw that stop words have no weightage at all).\n",
    "\n",
    "**TF-IDF: Term Frequency - Inverse Document Frequency**\n",
    "\n",
    "It assigns the weights to each word according to the formula (for every word i in document j):\n",
    "\n",
    "$$ w_{i,j} = tf_{i,j} \\times log\\bigg(\\frac{N}{df_i} \\bigg) $$\n",
    "\n",
    "Where,\n",
    "\n",
    "  $w_{i,j}$ is the weight of word i in document j\n",
    "\n",
    "  $tf_{i,j}$ is the term frequency for word i in document j\n",
    "\n",
    "  $N$ is the total number of documents\n",
    "\n",
    "  $df_i$ is the number of documents that contain the term i\n",
    "  \n",
    "<br>\n",
    "\n",
    "**pro**: Speeds up the computation of cossine similarity score"
   ]
  },
  {
   "cell_type": "markdown",
   "metadata": {},
   "source": [
    "### Cosine Similarity:\n",
    "\n",
    "Cosine similarity between two documents, x and y,\n",
    "\n",
    "$$ cosine(x, y) = \\frac{x.y^T}{||x||.||y||} $$\n",
    "\n",
    "It takes a value between -1 and 1, higher the score, more similar the documents are to each other."
   ]
  },
  {
   "cell_type": "markdown",
   "metadata": {},
   "source": [
    "### Steps for building a Plot based Recommender\n",
    "\n",
    "It takes a movie title as an argument and outputs a list of movies that are most similar based on their plots.\n",
    "\n",
    "**Steps**\n",
    "\n",
    "1. Clean the data to the format required to build the model\n",
    "2. Create TF-IDF vectors for the plot description of every movie\n",
    "3. Compute the pairwise cosine similarity between every movie\n",
    "4. Write a recommender function that takes in a movie title as an argument and outputs movies most similar to it based on the plot."
   ]
  },
  {
   "cell_type": "markdown",
   "metadata": {},
   "source": [
    "### 1. Prep the data"
   ]
  },
  {
   "cell_type": "code",
   "execution_count": 4,
   "metadata": {},
   "outputs": [
    {
     "data": {
      "text/html": [
       "<div>\n",
       "<style scoped>\n",
       "    .dataframe tbody tr th:only-of-type {\n",
       "        vertical-align: middle;\n",
       "    }\n",
       "\n",
       "    .dataframe tbody tr th {\n",
       "        vertical-align: top;\n",
       "    }\n",
       "\n",
       "    .dataframe thead th {\n",
       "        text-align: right;\n",
       "    }\n",
       "</style>\n",
       "<table border=\"1\" class=\"dataframe\">\n",
       "  <thead>\n",
       "    <tr style=\"text-align: right;\">\n",
       "      <th></th>\n",
       "      <th>name</th>\n",
       "      <th>description</th>\n",
       "    </tr>\n",
       "  </thead>\n",
       "  <tbody>\n",
       "    <tr>\n",
       "      <th>0</th>\n",
       "      <td>neerja</td>\n",
       "      <td>neerja is the story of the courageous neerja b...</td>\n",
       "    </tr>\n",
       "    <tr>\n",
       "      <th>1</th>\n",
       "      <td>udta punjab</td>\n",
       "      <td>a story that revolves around drug abuse in the...</td>\n",
       "    </tr>\n",
       "    <tr>\n",
       "      <th>2</th>\n",
       "      <td>kabhi khushi kabhie gham...</td>\n",
       "      <td>yashvardhan raichand lives a very wealthy life...</td>\n",
       "    </tr>\n",
       "    <tr>\n",
       "      <th>3</th>\n",
       "      <td>kal ho naa ho</td>\n",
       "      <td>naina, an introverted, perpetually depressed g...</td>\n",
       "    </tr>\n",
       "    <tr>\n",
       "      <th>4</th>\n",
       "      <td>parched</td>\n",
       "      <td>'parched' is a story about women set in the he...</td>\n",
       "    </tr>\n",
       "  </tbody>\n",
       "</table>\n",
       "</div>"
      ],
      "text/plain": [
       "                          name  \\\n",
       "0                       neerja   \n",
       "1                  udta punjab   \n",
       "2  kabhi khushi kabhie gham...   \n",
       "3                kal ho naa ho   \n",
       "4                      parched   \n",
       "\n",
       "                                         description  \n",
       "0  neerja is the story of the courageous neerja b...  \n",
       "1  a story that revolves around drug abuse in the...  \n",
       "2  yashvardhan raichand lives a very wealthy life...  \n",
       "3  naina, an introverted, perpetually depressed g...  \n",
       "4  'parched' is a story about women set in the he...  "
      ]
     },
     "execution_count": 4,
     "metadata": {},
     "output_type": "execute_result"
    }
   ],
   "source": [
    "# Let's create a dataframe with name and description\n",
    "plotDF = moviesDF.loc[:, ['name', 'description']]\n",
    "\n",
    "# Convert both columns to lowercase\n",
    "plotDF.loc[:, 'name'] = plotDF.loc[:, 'name'].apply(lambda x: x.lower())\n",
    "plotDF.loc[:, 'description'] = plotDF.loc[:, 'description'].apply(lambda x: x.lower())\n",
    "\n",
    "# Drop all the rows which are empty\n",
    "plotDF = plotDF[plotDF['description'] != '']\n",
    "\n",
    "# Now drop duplicates in the plotDF\n",
    "plotDF = plotDF.drop_duplicates()\n",
    "\n",
    "plotDF.head()"
   ]
  },
  {
   "cell_type": "code",
   "execution_count": 5,
   "metadata": {},
   "outputs": [
    {
     "name": "stdout",
     "output_type": "stream",
     "text": [
      "<class 'pandas.core.frame.DataFrame'>\n",
      "Index: 1751 entries, 0 to 2847\n",
      "Data columns (total 2 columns):\n",
      " #   Column       Non-Null Count  Dtype \n",
      "---  ------       --------------  ----- \n",
      " 0   name         1751 non-null   object\n",
      " 1   description  1751 non-null   object\n",
      "dtypes: object(2)\n",
      "memory usage: 41.0+ KB\n"
     ]
    }
   ],
   "source": [
    "# Lets quickly view the info of plotDF\n",
    "plotDF.info()\n",
    "\n",
    "# There are 2850 unique movies, we can see that there are no null description"
   ]
  },
  {
   "cell_type": "markdown",
   "metadata": {},
   "source": [
    "### 2. Create the TF-IDF matrix\n",
    "\n",
    "Each row of this matrix represents the TF_IDF vector of the description feature of the corresponding movie in the plotDF data frame."
   ]
  },
  {
   "cell_type": "code",
   "execution_count": 6,
   "metadata": {},
   "outputs": [
    {
     "data": {
      "text/plain": [
       "(1751, 7702)"
      ]
     },
     "execution_count": 6,
     "metadata": {},
     "output_type": "execute_result"
    }
   ],
   "source": [
    "# Import the TfIdfVectorizer from scikit-learn library\n",
    "from sklearn.feature_extraction.text import TfidfVectorizer\n",
    "\n",
    "# Define a TF IDF Vectorizer Object\n",
    "# with the removal of english stopwords turned on\n",
    "tfidf = TfidfVectorizer(stop_words = 'english')\n",
    "\n",
    "# Now costruct the TF-IDF Matrix by applying the fit_transform method on the description feature\n",
    "tfidf_matrix = tfidf.fit_transform(plotDF['description'])\n",
    "\n",
    "# View the shape of the TfIdf_matrix\n",
    "tfidf_matrix.shape"
   ]
  },
  {
   "cell_type": "markdown",
   "metadata": {},
   "source": [
    "### 3. Computing the cosine similarity score\n",
    "\n",
    "Here we are going to create a matrix of size 1751 x 1751, where i-th row and j-th column column represents the similarity score between movies i and j.\n",
    "\n",
    "This matrix will be symmetric in nature and all the elements along the diagonal will be 1, since it the similarity score of the matrix with itself.\n",
    "\n",
    "Also, as we have represented the movie plots as TF-IDF vectors, they have the magnitude of 1. So, we need not calculate the magnitude of the dot product (denominator of the cosine similarity function will always be 1).\n",
    "\n",
    "So out cosine similarity function reduces to:\n",
    "\n",
    "$$cosine(x, y) = x.y^T$$\n",
    "\n"
   ]
  },
  {
   "cell_type": "code",
   "execution_count": 7,
   "metadata": {},
   "outputs": [
    {
     "name": "stdout",
     "output_type": "stream",
     "text": [
      "Shape of cosine similarity matrix:  (1751, 1751)\n"
     ]
    },
    {
     "data": {
      "text/plain": [
       "array([[1.        , 0.00849819, 0.01322405, 0.02102451, 0.00729834],\n",
       "       [0.00849819, 1.        , 0.        , 0.        , 0.00940967],\n",
       "       [0.01322405, 0.        , 1.        , 0.01381885, 0.        ],\n",
       "       [0.02102451, 0.        , 0.01381885, 1.        , 0.        ],\n",
       "       [0.00729834, 0.00940967, 0.        , 0.        , 1.        ]])"
      ]
     },
     "execution_count": 7,
     "metadata": {},
     "output_type": "execute_result"
    }
   ],
   "source": [
    "# Import linear_kernel from scikit-learn to compute the dot product\n",
    "from sklearn.metrics.pairwise import linear_kernel\n",
    "\n",
    "# Compute the cosine similarity matrix by using linear_kernel\n",
    "cosine_sim = linear_kernel(tfidf_matrix, tfidf_matrix)\n",
    "\n",
    "# Let's view the shape of the cosine similarity matrix\n",
    "print(\"Shape of cosine similarity matrix: \", cosine_sim.shape)\n",
    "\n",
    "# Let's quickly view how the matrix looks like in first few column and rows\n",
    "cosine_sim[0:5, 0:5]"
   ]
  },
  {
   "cell_type": "code",
   "execution_count": 8,
   "metadata": {},
   "outputs": [
    {
     "data": {
      "text/plain": [
       "name\n",
       "neerja                         0\n",
       "udta punjab                    1\n",
       "kabhi khushi kabhie gham...    2\n",
       "kal ho naa ho                  3\n",
       "parched                        4\n",
       "dtype: int64"
      ]
     },
     "execution_count": 8,
     "metadata": {},
     "output_type": "execute_result"
    }
   ],
   "source": [
    "# Construct a pandas series of movie name as index and index as value\n",
    "indices = pd.Series(plotDF.index, index = plotDF['name'])\n",
    "indices.head()"
   ]
  },
  {
   "cell_type": "markdown",
   "metadata": {},
   "source": [
    "#### 4. Build the recommender function\n",
    "\n",
    "**Steps**\n",
    "\n",
    "1. Input the title of the movie as an argument\n",
    "2. Obtain the index of the movie from the *indeces* series\n",
    "3. Get the list of cosine similarity scores for that particular movie with all movies using cosine_sim matrix.And, convert this in to a list of tuples where the first element is the position and second element is the similarity score.\n",
    "4. Sort this list of tuples on the basis of the cosine similarity scores.\n",
    "5. Get the top 10 elements of the list, while ignoring the first element as it refers to the similarity score with itself.\n",
    "6. Return the titles corresponding to the indices of the top 10 elements."
   ]
  },
  {
   "cell_type": "code",
   "execution_count": 9,
   "metadata": {},
   "outputs": [],
   "source": [
    "# Function for returning top 10 movies for a movie title as input\n",
    "def plot_based_recommender(title, df = plotDF, cosine_sim = cosine_sim, indices = indices):\n",
    "  # Convert title to lower-case\n",
    "  title = title.lower()\n",
    "\n",
    "  # Obtain the index of the movie that matched the title \n",
    "  try:\n",
    "    idx = indices[title]\n",
    "  except KeyError:\n",
    "    print('Movie does not exist :(')\n",
    "    return False\n",
    "\n",
    "  # Get the pairwise similarity score of all the movies with that movie\n",
    "  # and convert it into a list of tuples (position, similarity score)\n",
    "  sim_scores = list(enumerate(cosine_sim[idx]))\n",
    "\n",
    "  # Sort the movies based on the cosine similarity scores\n",
    "  sim_scores = sorted(sim_scores, key = lambda x: x[1], reverse = True)\n",
    "\n",
    "  # Get the scores of the top 10 most similar movies. Ignore the first movie.\n",
    "  sim_scores = sim_scores[1:11]\n",
    "\n",
    "  # get the movie indices\n",
    "  movie_indices = [sim_score[0] for sim_score in sim_scores]\n",
    "\n",
    "  # Return the top 10 similar movies\n",
    "  return df['name'].iloc[movie_indices]"
   ]
  },
  {
   "cell_type": "code",
   "execution_count": 10,
   "metadata": {},
   "outputs": [
    {
     "data": {
      "text/plain": [
       "105      pyaar ka punchnama 2\n",
       "72                delhi belly\n",
       "2051         mahakavi kalidas\n",
       "2126                   crayon\n",
       "164        in the name of god\n",
       "3               kal ho naa ho\n",
       "503             apradhi kaun?\n",
       "360      chalti ka naam gaadi\n",
       "1760    shubhamangal savadhan\n",
       "2019               orr eravuu\n",
       "Name: name, dtype: object"
      ]
     },
     "execution_count": 10,
     "metadata": {},
     "output_type": "execute_result"
    }
   ],
   "source": [
    "plot_based_recommender('Pyaar Ka Punchnama')"
   ]
  },
  {
   "cell_type": "markdown",
   "metadata": {},
   "source": [
    "## II. Metadata Based Recommender System\n",
    "\n",
    "To build this model, we will be using the following meta-data:\n",
    "\n",
    "- genre\n",
    "- language\n",
    "- director\n",
    "- cast\n",
    "- smovie description\n",
    "\n",
    "Apart from the difference in data being used, we will largely follow the same steps as the plot based recommender system."
   ]
  },
  {
   "cell_type": "markdown",
   "metadata": {},
   "source": [
    "### Prep the Data"
   ]
  },
  {
   "cell_type": "code",
   "execution_count": 11,
   "metadata": {},
   "outputs": [
    {
     "data": {
      "text/html": [
       "<div>\n",
       "<style scoped>\n",
       "    .dataframe tbody tr th:only-of-type {\n",
       "        vertical-align: middle;\n",
       "    }\n",
       "\n",
       "    .dataframe tbody tr th {\n",
       "        vertical-align: top;\n",
       "    }\n",
       "\n",
       "    .dataframe thead th {\n",
       "        text-align: right;\n",
       "    }\n",
       "</style>\n",
       "<table border=\"1\" class=\"dataframe\">\n",
       "  <thead>\n",
       "    <tr style=\"text-align: right;\">\n",
       "      <th></th>\n",
       "      <th>name</th>\n",
       "      <th>genre</th>\n",
       "      <th>language</th>\n",
       "      <th>director</th>\n",
       "      <th>cast</th>\n",
       "      <th>description</th>\n",
       "    </tr>\n",
       "  </thead>\n",
       "  <tbody>\n",
       "    <tr>\n",
       "      <th>0</th>\n",
       "      <td>Neerja</td>\n",
       "      <td>[Biography, Drama, Thriller]</td>\n",
       "      <td>[Hindi]</td>\n",
       "      <td>[Ram Madhvani]</td>\n",
       "      <td>[Sonam Kapoor, Shabana Azmi, Yogendra Tikku, A...</td>\n",
       "      <td>Neerja is the story of the courageous Neerja B...</td>\n",
       "    </tr>\n",
       "    <tr>\n",
       "      <th>1</th>\n",
       "      <td>Udta Punjab</td>\n",
       "      <td>[Crime, Drama, Thriller]</td>\n",
       "      <td>[Hindi, Panjabi]</td>\n",
       "      <td>[Abhishek Chaubey]</td>\n",
       "      <td>[Alia Bhatt, Shahid Kapoor, Diljit Dosanjh, Ka...</td>\n",
       "      <td>A story that revolves around drug abuse in the...</td>\n",
       "    </tr>\n",
       "    <tr>\n",
       "      <th>2</th>\n",
       "      <td>Kabhi Khushi Kabhie Gham...</td>\n",
       "      <td>[Drama, Musical, Romance]</td>\n",
       "      <td>[Hindi, English, Urdu]</td>\n",
       "      <td>[Karan Johar]</td>\n",
       "      <td>[Amitabh Bachchan, Jaya Bhaduri, Shah Rukh Kha...</td>\n",
       "      <td>Yashvardhan Raichand lives a very wealthy life...</td>\n",
       "    </tr>\n",
       "    <tr>\n",
       "      <th>3</th>\n",
       "      <td>Kal Ho Naa Ho</td>\n",
       "      <td>[Comedy, Drama, Romance]</td>\n",
       "      <td>[Hindi, Urdu, Gujarati, Panjabi]</td>\n",
       "      <td>[Nikkhil Advani]</td>\n",
       "      <td>[Shah Rukh Khan, Preity Zinta, Saif Ali Khan, ...</td>\n",
       "      <td>Naina, an introverted, perpetually depressed g...</td>\n",
       "    </tr>\n",
       "    <tr>\n",
       "      <th>4</th>\n",
       "      <td>Parched</td>\n",
       "      <td>[Drama]</td>\n",
       "      <td>[Hindi, English]</td>\n",
       "      <td>[Leena Yadav]</td>\n",
       "      <td>[Tannishtha Chatterjee, Radhika Apte, Lehar Kh...</td>\n",
       "      <td>'Parched' is a story about women set in the he...</td>\n",
       "    </tr>\n",
       "  </tbody>\n",
       "</table>\n",
       "</div>"
      ],
      "text/plain": [
       "                          name                         genre  \\\n",
       "0                       Neerja  [Biography, Drama, Thriller]   \n",
       "1                  Udta Punjab      [Crime, Drama, Thriller]   \n",
       "2  Kabhi Khushi Kabhie Gham...     [Drama, Musical, Romance]   \n",
       "3                Kal Ho Naa Ho      [Comedy, Drama, Romance]   \n",
       "4                      Parched                       [Drama]   \n",
       "\n",
       "                           language            director  \\\n",
       "0                           [Hindi]      [Ram Madhvani]   \n",
       "1                  [Hindi, Panjabi]  [Abhishek Chaubey]   \n",
       "2            [Hindi, English, Urdu]       [Karan Johar]   \n",
       "3  [Hindi, Urdu, Gujarati, Panjabi]    [Nikkhil Advani]   \n",
       "4                  [Hindi, English]       [Leena Yadav]   \n",
       "\n",
       "                                                cast  \\\n",
       "0  [Sonam Kapoor, Shabana Azmi, Yogendra Tikku, A...   \n",
       "1  [Alia Bhatt, Shahid Kapoor, Diljit Dosanjh, Ka...   \n",
       "2  [Amitabh Bachchan, Jaya Bhaduri, Shah Rukh Kha...   \n",
       "3  [Shah Rukh Khan, Preity Zinta, Saif Ali Khan, ...   \n",
       "4  [Tannishtha Chatterjee, Radhika Apte, Lehar Kh...   \n",
       "\n",
       "                                         description  \n",
       "0  Neerja is the story of the courageous Neerja B...  \n",
       "1  A story that revolves around drug abuse in the...  \n",
       "2  Yashvardhan Raichand lives a very wealthy life...  \n",
       "3  Naina, an introverted, perpetually depressed g...  \n",
       "4  'Parched' is a story about women set in the he...  "
      ]
     },
     "execution_count": 11,
     "metadata": {},
     "output_type": "execute_result"
    }
   ],
   "source": [
    "# Prepare the data\n",
    "metaDF = moviesDF[['name', 'genre', 'language', 'director', 'cast', 'description']]\n",
    "metaDF.head()"
   ]
  },
  {
   "cell_type": "code",
   "execution_count": 12,
   "metadata": {},
   "outputs": [
    {
     "data": {
      "text/html": [
       "<div>\n",
       "<style scoped>\n",
       "    .dataframe tbody tr th:only-of-type {\n",
       "        vertical-align: middle;\n",
       "    }\n",
       "\n",
       "    .dataframe tbody tr th {\n",
       "        vertical-align: top;\n",
       "    }\n",
       "\n",
       "    .dataframe thead th {\n",
       "        text-align: right;\n",
       "    }\n",
       "</style>\n",
       "<table border=\"1\" class=\"dataframe\">\n",
       "  <thead>\n",
       "    <tr style=\"text-align: right;\">\n",
       "      <th></th>\n",
       "      <th>name</th>\n",
       "      <th>genre</th>\n",
       "      <th>language</th>\n",
       "      <th>director</th>\n",
       "      <th>cast</th>\n",
       "      <th>description</th>\n",
       "    </tr>\n",
       "  </thead>\n",
       "  <tbody>\n",
       "    <tr>\n",
       "      <th>0</th>\n",
       "      <td>Neerja</td>\n",
       "      <td>[Biography, Drama, Thriller]</td>\n",
       "      <td>[Hindi]</td>\n",
       "      <td>[Ram Madhvani]</td>\n",
       "      <td>[Sonam Kapoor, Shabana Azmi, Yogendra Tikku]</td>\n",
       "      <td>Neerja is the story of the courageous Neerja B...</td>\n",
       "    </tr>\n",
       "    <tr>\n",
       "      <th>1</th>\n",
       "      <td>Udta Punjab</td>\n",
       "      <td>[Crime, Drama, Thriller]</td>\n",
       "      <td>[Hindi, Panjabi]</td>\n",
       "      <td>[Abhishek Chaubey]</td>\n",
       "      <td>[Alia Bhatt, Shahid Kapoor, Diljit Dosanjh]</td>\n",
       "      <td>A story that revolves around drug abuse in the...</td>\n",
       "    </tr>\n",
       "    <tr>\n",
       "      <th>2</th>\n",
       "      <td>Kabhi Khushi Kabhie Gham...</td>\n",
       "      <td>[Drama, Musical, Romance]</td>\n",
       "      <td>[Hindi, English, Urdu]</td>\n",
       "      <td>[Karan Johar]</td>\n",
       "      <td>[Amitabh Bachchan, Jaya Bhaduri, Shah Rukh Khan]</td>\n",
       "      <td>Yashvardhan Raichand lives a very wealthy life...</td>\n",
       "    </tr>\n",
       "    <tr>\n",
       "      <th>3</th>\n",
       "      <td>Kal Ho Naa Ho</td>\n",
       "      <td>[Comedy, Drama, Romance]</td>\n",
       "      <td>[Hindi, Urdu, Gujarati, Panjabi]</td>\n",
       "      <td>[Nikkhil Advani]</td>\n",
       "      <td>[Shah Rukh Khan, Preity Zinta, Saif Ali Khan]</td>\n",
       "      <td>Naina, an introverted, perpetually depressed g...</td>\n",
       "    </tr>\n",
       "    <tr>\n",
       "      <th>4</th>\n",
       "      <td>Parched</td>\n",
       "      <td>[Drama]</td>\n",
       "      <td>[Hindi, English]</td>\n",
       "      <td>[Leena Yadav]</td>\n",
       "      <td>[Tannishtha Chatterjee, Radhika Apte, Lehar Khan]</td>\n",
       "      <td>'Parched' is a story about women set in the he...</td>\n",
       "    </tr>\n",
       "  </tbody>\n",
       "</table>\n",
       "</div>"
      ],
      "text/plain": [
       "                          name                         genre  \\\n",
       "0                       Neerja  [Biography, Drama, Thriller]   \n",
       "1                  Udta Punjab      [Crime, Drama, Thriller]   \n",
       "2  Kabhi Khushi Kabhie Gham...     [Drama, Musical, Romance]   \n",
       "3                Kal Ho Naa Ho      [Comedy, Drama, Romance]   \n",
       "4                      Parched                       [Drama]   \n",
       "\n",
       "                           language            director  \\\n",
       "0                           [Hindi]      [Ram Madhvani]   \n",
       "1                  [Hindi, Panjabi]  [Abhishek Chaubey]   \n",
       "2            [Hindi, English, Urdu]       [Karan Johar]   \n",
       "3  [Hindi, Urdu, Gujarati, Panjabi]    [Nikkhil Advani]   \n",
       "4                  [Hindi, English]       [Leena Yadav]   \n",
       "\n",
       "                                                cast  \\\n",
       "0       [Sonam Kapoor, Shabana Azmi, Yogendra Tikku]   \n",
       "1        [Alia Bhatt, Shahid Kapoor, Diljit Dosanjh]   \n",
       "2   [Amitabh Bachchan, Jaya Bhaduri, Shah Rukh Khan]   \n",
       "3      [Shah Rukh Khan, Preity Zinta, Saif Ali Khan]   \n",
       "4  [Tannishtha Chatterjee, Radhika Apte, Lehar Khan]   \n",
       "\n",
       "                                         description  \n",
       "0  Neerja is the story of the courageous Neerja B...  \n",
       "1  A story that revolves around drug abuse in the...  \n",
       "2  Yashvardhan Raichand lives a very wealthy life...  \n",
       "3  Naina, an introverted, perpetually depressed g...  \n",
       "4  'Parched' is a story about women set in the he...  "
      ]
     },
     "execution_count": 12,
     "metadata": {},
     "output_type": "execute_result"
    }
   ],
   "source": [
    "# We want to keep only the first 3 genre and cast (actors) in the list format\n",
    "# We want to keep only the first director\n",
    "\n",
    "metaDF.loc[:, 'genre'] = metaDF.loc[:, 'genre'].apply(lambda x: x[:3] if len(x) > 3 else x)\n",
    "metaDF.loc[:, 'cast'] = metaDF.loc[:, 'cast'].apply(lambda x: x[:3] if len(x) > 3 else x)\n",
    "metaDF.loc[:, 'director'] = metaDF.loc[:, 'director'].apply(lambda x: x[:1])\n",
    "metaDF.head()"
   ]
  },
  {
   "cell_type": "markdown",
   "metadata": {},
   "source": [
    "The spaces between the names of actors and directors can create problems as they can be considered as separate words. We do not want that, so our next step is to strip the spaces between the names."
   ]
  },
  {
   "cell_type": "code",
   "execution_count": 13,
   "metadata": {},
   "outputs": [],
   "source": [
    "def sanitize(x):\n",
    "    if isinstance(x, list):\n",
    "        # Strip spaces\n",
    "        return [i.replace(\" \", \"\") for i in x]\n",
    "    else:\n",
    "        # if it is empty, return an empty string\n",
    "        if isinstance(x, str):\n",
    "            return x.replace(\" \", \"\")\n",
    "        else: \n",
    "            return ''"
   ]
  },
  {
   "cell_type": "code",
   "execution_count": 14,
   "metadata": {},
   "outputs": [
    {
     "name": "stderr",
     "output_type": "stream",
     "text": [
      "/var/folders/ww/h3r9s2j93ylbk0pdctkmhyzm0000gq/T/ipykernel_97165/2226031449.py:3: SettingWithCopyWarning: \n",
      "A value is trying to be set on a copy of a slice from a DataFrame.\n",
      "Try using .loc[row_indexer,col_indexer] = value instead\n",
      "\n",
      "See the caveats in the documentation: https://pandas.pydata.org/pandas-docs/stable/user_guide/indexing.html#returning-a-view-versus-a-copy\n",
      "  metaDF[feature] = metaDF[feature].apply(sanitize)\n"
     ]
    }
   ],
   "source": [
    "#Apply the generate_list function to cast, keywords, director and genres \n",
    "for feature in ['director', 'cast']:\n",
    "    metaDF[feature] = metaDF[feature].apply(sanitize)"
   ]
  },
  {
   "cell_type": "code",
   "execution_count": 15,
   "metadata": {},
   "outputs": [
    {
     "data": {
      "text/html": [
       "<div>\n",
       "<style scoped>\n",
       "    .dataframe tbody tr th:only-of-type {\n",
       "        vertical-align: middle;\n",
       "    }\n",
       "\n",
       "    .dataframe tbody tr th {\n",
       "        vertical-align: top;\n",
       "    }\n",
       "\n",
       "    .dataframe thead th {\n",
       "        text-align: right;\n",
       "    }\n",
       "</style>\n",
       "<table border=\"1\" class=\"dataframe\">\n",
       "  <thead>\n",
       "    <tr style=\"text-align: right;\">\n",
       "      <th></th>\n",
       "      <th>name</th>\n",
       "      <th>genre</th>\n",
       "      <th>language</th>\n",
       "      <th>director</th>\n",
       "      <th>cast</th>\n",
       "      <th>description</th>\n",
       "    </tr>\n",
       "  </thead>\n",
       "  <tbody>\n",
       "    <tr>\n",
       "      <th>0</th>\n",
       "      <td>Neerja</td>\n",
       "      <td>[Biography, Drama, Thriller]</td>\n",
       "      <td>[Hindi]</td>\n",
       "      <td>[RamMadhvani]</td>\n",
       "      <td>[SonamKapoor, ShabanaAzmi, YogendraTikku]</td>\n",
       "      <td>Neerja is the story of the courageous Neerja B...</td>\n",
       "    </tr>\n",
       "    <tr>\n",
       "      <th>1</th>\n",
       "      <td>Udta Punjab</td>\n",
       "      <td>[Crime, Drama, Thriller]</td>\n",
       "      <td>[Hindi, Panjabi]</td>\n",
       "      <td>[AbhishekChaubey]</td>\n",
       "      <td>[AliaBhatt, ShahidKapoor, DiljitDosanjh]</td>\n",
       "      <td>A story that revolves around drug abuse in the...</td>\n",
       "    </tr>\n",
       "    <tr>\n",
       "      <th>2</th>\n",
       "      <td>Kabhi Khushi Kabhie Gham...</td>\n",
       "      <td>[Drama, Musical, Romance]</td>\n",
       "      <td>[Hindi, English, Urdu]</td>\n",
       "      <td>[KaranJohar]</td>\n",
       "      <td>[AmitabhBachchan, JayaBhaduri, ShahRukhKhan]</td>\n",
       "      <td>Yashvardhan Raichand lives a very wealthy life...</td>\n",
       "    </tr>\n",
       "    <tr>\n",
       "      <th>3</th>\n",
       "      <td>Kal Ho Naa Ho</td>\n",
       "      <td>[Comedy, Drama, Romance]</td>\n",
       "      <td>[Hindi, Urdu, Gujarati, Panjabi]</td>\n",
       "      <td>[NikkhilAdvani]</td>\n",
       "      <td>[ShahRukhKhan, PreityZinta, SaifAliKhan]</td>\n",
       "      <td>Naina, an introverted, perpetually depressed g...</td>\n",
       "    </tr>\n",
       "    <tr>\n",
       "      <th>4</th>\n",
       "      <td>Parched</td>\n",
       "      <td>[Drama]</td>\n",
       "      <td>[Hindi, English]</td>\n",
       "      <td>[LeenaYadav]</td>\n",
       "      <td>[TannishthaChatterjee, RadhikaApte, LeharKhan]</td>\n",
       "      <td>'Parched' is a story about women set in the he...</td>\n",
       "    </tr>\n",
       "  </tbody>\n",
       "</table>\n",
       "</div>"
      ],
      "text/plain": [
       "                          name                         genre  \\\n",
       "0                       Neerja  [Biography, Drama, Thriller]   \n",
       "1                  Udta Punjab      [Crime, Drama, Thriller]   \n",
       "2  Kabhi Khushi Kabhie Gham...     [Drama, Musical, Romance]   \n",
       "3                Kal Ho Naa Ho      [Comedy, Drama, Romance]   \n",
       "4                      Parched                       [Drama]   \n",
       "\n",
       "                           language           director  \\\n",
       "0                           [Hindi]      [RamMadhvani]   \n",
       "1                  [Hindi, Panjabi]  [AbhishekChaubey]   \n",
       "2            [Hindi, English, Urdu]       [KaranJohar]   \n",
       "3  [Hindi, Urdu, Gujarati, Panjabi]    [NikkhilAdvani]   \n",
       "4                  [Hindi, English]       [LeenaYadav]   \n",
       "\n",
       "                                             cast  \\\n",
       "0       [SonamKapoor, ShabanaAzmi, YogendraTikku]   \n",
       "1        [AliaBhatt, ShahidKapoor, DiljitDosanjh]   \n",
       "2    [AmitabhBachchan, JayaBhaduri, ShahRukhKhan]   \n",
       "3        [ShahRukhKhan, PreityZinta, SaifAliKhan]   \n",
       "4  [TannishthaChatterjee, RadhikaApte, LeharKhan]   \n",
       "\n",
       "                                         description  \n",
       "0  Neerja is the story of the courageous Neerja B...  \n",
       "1  A story that revolves around drug abuse in the...  \n",
       "2  Yashvardhan Raichand lives a very wealthy life...  \n",
       "3  Naina, an introverted, perpetually depressed g...  \n",
       "4  'Parched' is a story about women set in the he...  "
      ]
     },
     "execution_count": 15,
     "metadata": {},
     "output_type": "execute_result"
    }
   ],
   "source": [
    "metaDF.head()"
   ]
  },
  {
   "cell_type": "code",
   "execution_count": 16,
   "metadata": {},
   "outputs": [
    {
     "name": "stderr",
     "output_type": "stream",
     "text": [
      "/var/folders/ww/h3r9s2j93ylbk0pdctkmhyzm0000gq/T/ipykernel_97165/199222214.py:6: SettingWithCopyWarning: \n",
      "A value is trying to be set on a copy of a slice from a DataFrame.\n",
      "Try using .loc[row_indexer,col_indexer] = value instead\n",
      "\n",
      "See the caveats in the documentation: https://pandas.pydata.org/pandas-docs/stable/user_guide/indexing.html#returning-a-view-versus-a-copy\n",
      "  metaDF['soup'] = metaDF.apply(create_soup, axis=1)\n"
     ]
    },
    {
     "data": {
      "text/plain": [
       "'Biography Drama Thriller RamMadhvani SonamKapoor ShabanaAzmi YogendraTikku Neerja Neerja is the story of the courageous Neerja Bhanot, who sacrificed her life while protecting the lives of 359 passengers on the Pan Am flight 73 in 1986. The flight was hijacked by a terrorist organization.'"
      ]
     },
     "execution_count": 16,
     "metadata": {},
     "output_type": "execute_result"
    }
   ],
   "source": [
    "# Function that creates a soup out of the desired metadata\n",
    "def create_soup(x):\n",
    "    return ' '.join(x['genre']) + ' ' + ' '.join(x['director']) + ' ' + ' '.join(x['cast'] + [x['name']] + [x['description']])\n",
    "\n",
    "# Create the new soup feature \n",
    "metaDF['soup'] = metaDF.apply(create_soup, axis=1)\n",
    "\n",
    "#Display the soup of the first movie \n",
    "metaDF.iloc[0]['soup']"
   ]
  },
  {
   "cell_type": "code",
   "execution_count": 17,
   "metadata": {},
   "outputs": [
    {
     "name": "stdout",
     "output_type": "stream",
     "text": [
      "(2850, 2)\n"
     ]
    }
   ],
   "source": [
    "# Let's create a dataframe with name and soup\n",
    "soupDF = metaDF.loc[:, ['name', 'soup']]\n",
    "\n",
    "# Convert both columns to lowercase\n",
    "soupDF.loc[:, 'name'] = soupDF.loc[:, 'name'].apply(lambda x: x.lower())\n",
    "soupDF.loc[:, 'soup'] = soupDF.loc[:, 'soup'].apply(lambda x: x.lower())\n",
    "\n",
    "# Drop all the rows which are empty\n",
    "soupDF = soupDF[soupDF['soup'] != '']\n",
    "\n",
    "# Now drop duplicates in the soupDF\n",
    "soupDF = soupDF.drop_duplicates()\n",
    "\n",
    "soupDF.head()\n",
    "print(soupDF.shape)"
   ]
  },
  {
   "cell_type": "code",
   "execution_count": 18,
   "metadata": {},
   "outputs": [
    {
     "data": {
      "text/plain": [
       "(2850, 15373)"
      ]
     },
     "execution_count": 18,
     "metadata": {},
     "output_type": "execute_result"
    }
   ],
   "source": [
    "# Import the TfIdfVectorizer from scikit-learn library\n",
    "from sklearn.feature_extraction.text import TfidfVectorizer\n",
    "\n",
    "# Define a TF IDF Vectorizer Object\n",
    "# with the removal of english stopwords turned on\n",
    "tfidf = TfidfVectorizer(stop_words = 'english')\n",
    "\n",
    "# Now costruct the TF-IDF Matrix by applying the fit_transform method on the description feature\n",
    "tfidf_matrix = tfidf.fit_transform(soupDF['soup'])\n",
    "\n",
    "# View the shape of the TfIdf_matrix\n",
    "tfidf_matrix.shape"
   ]
  },
  {
   "cell_type": "code",
   "execution_count": 19,
   "metadata": {},
   "outputs": [
    {
     "name": "stdout",
     "output_type": "stream",
     "text": [
      "Shape of cosine similarity matrix:  (2850, 2850)\n"
     ]
    },
    {
     "data": {
      "text/plain": [
       "array([[1.        , 0.01715787, 0.01183263, 0.01769827, 0.00725645],\n",
       "       [0.01715787, 1.        , 0.00183587, 0.00165802, 0.00912824],\n",
       "       [0.01183263, 0.00183587, 1.        , 0.04098887, 0.00158062],\n",
       "       [0.01769827, 0.00165802, 0.04098887, 1.        , 0.0014275 ],\n",
       "       [0.00725645, 0.00912824, 0.00158062, 0.0014275 , 1.        ]])"
      ]
     },
     "execution_count": 19,
     "metadata": {},
     "output_type": "execute_result"
    }
   ],
   "source": [
    "# Import linear_kernel from scikit-learn to compute the dot product\n",
    "from sklearn.metrics.pairwise import linear_kernel\n",
    "\n",
    "# Compute the cosine similarity matrix by using linear_kernel\n",
    "cosine_sim = linear_kernel(tfidf_matrix, tfidf_matrix)\n",
    "\n",
    "# Let's view the shape of the cosine similarity matrix\n",
    "print(\"Shape of cosine similarity matrix: \", cosine_sim.shape)\n",
    "\n",
    "# Let's quickly view how the matrix looks like in first few column and rows\n",
    "cosine_sim[0:5, 0:5]"
   ]
  },
  {
   "cell_type": "code",
   "execution_count": 20,
   "metadata": {},
   "outputs": [
    {
     "data": {
      "text/plain": [
       "name\n",
       "neerja                         0\n",
       "udta punjab                    1\n",
       "kabhi khushi kabhie gham...    2\n",
       "kal ho naa ho                  3\n",
       "parched                        4\n",
       "dtype: int64"
      ]
     },
     "execution_count": 20,
     "metadata": {},
     "output_type": "execute_result"
    }
   ],
   "source": [
    "# Construct a pandas series of movie name as index and index as value\n",
    "indices = pd.Series(soupDF.index, index = soupDF['name'])\n",
    "indices.head()"
   ]
  },
  {
   "cell_type": "code",
   "execution_count": 21,
   "metadata": {},
   "outputs": [],
   "source": [
    "# Function for returning top 10 movies for a movie title as input\n",
    "def plot_based_recommender(title, df = soupDF, cosine_sim = cosine_sim, indices = indices):\n",
    "  # Convert title to lower-case\n",
    "  title = title.lower()\n",
    "\n",
    "  # Obtain the index of the movie that matched the title \n",
    "  try:\n",
    "    idx = indices[title]\n",
    "  except KeyError:\n",
    "    print('Movie does not exist :(')\n",
    "    return False\n",
    "\n",
    "  # Get the pairwise similarity score of all the movies with that movie\n",
    "  # and convert it into a list of tuples (position, similarity score)\n",
    "  sim_scores = list(enumerate(cosine_sim[idx]))\n",
    "\n",
    "  # Sort the movies based on the cosine similarity scores\n",
    "  sim_scores = sorted(sim_scores, key = lambda x: x[1], reverse = True)\n",
    "\n",
    "  # Get the scores of the top 10 most similar movies. Ignore the first movie.\n",
    "  sim_scores = sim_scores[1:11]\n",
    "\n",
    "  # get the movie indices\n",
    "  movie_indices = [sim_score[0] for sim_score in sim_scores]\n",
    "\n",
    "  # Return the top 10 similar movies\n",
    "  return df['name'].iloc[movie_indices]"
   ]
  },
  {
   "cell_type": "code",
   "execution_count": 25,
   "metadata": {},
   "outputs": [
    {
     "data": {
      "text/plain": [
       "2813                      raktha kanneeru\n",
       "2526                             yeh aman\n",
       "1729                     carry on maratha\n",
       "356                              haqeeqat\n",
       "391                                junoon\n",
       "383                                  holi\n",
       "8                         my name is khan\n",
       "2558                   adi shankaracharya\n",
       "7       lagaan: once upon a time in india\n",
       "45                             veer-zaara\n",
       "Name: name, dtype: object"
      ]
     },
     "execution_count": 25,
     "metadata": {},
     "output_type": "execute_result"
    }
   ],
   "source": [
    "plot_based_recommender('Swades')"
   ]
  },
  {
   "cell_type": "code",
   "execution_count": 23,
   "metadata": {},
   "outputs": [],
   "source": [
    "# database \n",
    "db = {} \n",
    "db['cosine_sim'] = cosine_sim\n",
    "db['indices'] = indices\n",
    "\n",
    "import pickle\n",
    "\n",
    "dbfile = open('examplePickle', 'ab') \n",
    "pickle.dump(db, dbfile)                      \n",
    "dbfile.close() "
   ]
  },
  {
   "cell_type": "code",
   "execution_count": null,
   "metadata": {},
   "outputs": [],
   "source": []
  }
 ],
 "metadata": {
  "kernelspec": {
   "display_name": "Python 3 (ipykernel)",
   "language": "python",
   "name": "python3"
  },
  "language_info": {
   "codemirror_mode": {
    "name": "ipython",
    "version": 3
   },
   "file_extension": ".py",
   "mimetype": "text/x-python",
   "name": "python",
   "nbconvert_exporter": "python",
   "pygments_lexer": "ipython3",
   "version": "3.10.12"
  }
 },
 "nbformat": 4,
 "nbformat_minor": 4
}
